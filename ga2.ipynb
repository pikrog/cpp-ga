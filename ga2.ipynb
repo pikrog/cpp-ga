{
 "cells": [
  {
   "cell_type": "code",
   "execution_count": 2,
   "metadata": {
    "collapsed": true
   },
   "outputs": [],
   "source": [
    "import igraph\n",
    "import random\n",
    "import numpy\n",
    "import pandas\n",
    "import pygad"
   ]
  },
  {
   "cell_type": "code",
   "execution_count": 3,
   "outputs": [],
   "source": [
    "def make_graph(weighted_edges):\n",
    "    edges = [edge[0:2] for edge in weighted_edges]\n",
    "    weights = [edge[2] for edge in weighted_edges]\n",
    "\n",
    "    return igraph.Graph(\n",
    "        edges=edges,\n",
    "        edge_attrs={'weight': weights}\n",
    "    )\n",
    "\n",
    "\n",
    "def read_graph_from_file(path):\n",
    "    with open(path) as file:\n",
    "        lines = file.readlines()\n",
    "        weighted_edges = []\n",
    "        for line in lines:\n",
    "            strings = line.rstrip().split(' ')\n",
    "            values = [int(s) for s in strings]\n",
    "            weighted_edges.append(values)\n",
    "\n",
    "        return make_graph(weighted_edges)\n"
   ],
   "metadata": {
    "collapsed": false
   }
  },
  {
   "cell_type": "code",
   "execution_count": 4,
   "outputs": [],
   "source": [
    "graph = read_graph_from_file(\"./graphs/graph_small.dat\")"
   ],
   "metadata": {
    "collapsed": false
   }
  },
  {
   "cell_type": "code",
   "execution_count": 213,
   "outputs": [],
   "source": [
    "def invert_edge(edge_count: int, edge_index: int) -> int:\n",
    "    return int((edge_index + edge_count) % (edge_count * 2))"
   ],
   "metadata": {
    "collapsed": false
   }
  },
  {
   "cell_type": "code",
   "execution_count": 84,
   "outputs": [
    {
     "data": {
      "text/plain": "41"
     },
     "execution_count": 84,
     "metadata": {},
     "output_type": "execute_result"
    }
   ],
   "source": [
    "invert_edge(30, 11)"
   ],
   "metadata": {
    "collapsed": false
   }
  },
  {
   "cell_type": "code",
   "execution_count": 28,
   "outputs": [],
   "source": [
    "def generate_initial_population(graph: igraph.Graph, population_size: int):\n",
    "    population = [list(range(graph.ecount())) for _ in range(population_size)]\n",
    "    chaos_population = []\n",
    "\n",
    "    for solution in population:\n",
    "        chaos_edge_list = []\n",
    "        for edge in solution:\n",
    "            if random.random() > 0.5:\n",
    "                chaos_edge_list.append(edge)\n",
    "            else:\n",
    "                chaos_edge_list.append(invert_edge(graph.ecount(), edge))\n",
    "        chaos_population.append(chaos_edge_list)\n",
    "        random.shuffle(chaos_edge_list)\n",
    "\n",
    "    return chaos_population"
   ],
   "metadata": {
    "collapsed": false
   }
  },
  {
   "cell_type": "code",
   "execution_count": 296,
   "outputs": [],
   "source": [
    "def _fitness(graph: igraph.Graph, all_edges: list[tuple[int, int, int]], solution: list[float], solution_index):\n",
    "    total_cost = 0\n",
    "\n",
    "    previous_vertex = all_edges[int(solution[0])][1]\n",
    "    for index in range(len(solution)):\n",
    "        begin_vertex, end_vertex, edge_cost = all_edges[int(solution[index])]\n",
    "\n",
    "        path_cost = graph.get_shortest_paths(v=previous_vertex, to=begin_vertex, weights=\"weight\", output=\"epath\")[0]\n",
    "        path_costB = graph.get_shortest_paths(v=previous_vertex, to=end_vertex, weights=\"weight\", output=\"epath\")[0]\n",
    "        cost = 0\n",
    "        costB = 0\n",
    "        if index != 0:\n",
    "            for edge in path_cost:\n",
    "                cost += graph.es[edge]['weight']\n",
    "            for edge in path_costB:\n",
    "                costB += graph.es[edge]['weight']\n",
    "\n",
    "        total_cost += min(cost, costB) + edge_cost\n",
    "        # print('Edge index:', solution[index])\n",
    "        # print('Prev verte:', previous_vertex)\n",
    "        # print('Path betwe:', previous_vertex, begin_vertex)\n",
    "        # print('Begin End :', begin_vertex, end_vertex)\n",
    "        # print('Path cost :', cost - edge_cost)\n",
    "        # print('Edge cost :', edge_cost)\n",
    "        # print('Iter cost :', cost)\n",
    "        # print('Total cost:', total_cost)\n",
    "        # print('\\n')\n",
    "        if cost < costB:\n",
    "            previous_vertex = end_vertex\n",
    "        else:\n",
    "            previous_vertex = begin_vertex\n",
    "\n",
    "    return -numpy.log(total_cost)"
   ],
   "metadata": {
    "collapsed": false
   }
  },
  {
   "cell_type": "code",
   "execution_count": 31,
   "outputs": [
    {
     "name": "stdout",
     "output_type": "stream",
     "text": [
      "[[31, 3, 37, 13, 25, 26, 54, 2, 17, 45, 59, 6, 46, 38, 11, 30, 23, 52, 34, 51, 40, 42, 50, 39, 35, 57, 14, 49, 48, 28], [8, 6, 30, 51, 31, 44, 20, 47, 28, 5, 15, 34, 43, 56, 19, 41, 9, 52, 10, 7, 27, 24, 12, 48, 29, 3, 55, 32, 46, 53]]\n"
     ]
    }
   ],
   "source": [
    "print(generate_initial_population(graph, 2))"
   ],
   "metadata": {
    "collapsed": false
   }
  },
  {
   "cell_type": "code",
   "execution_count": 297,
   "outputs": [
    {
     "data": {
      "text/plain": "-315"
     },
     "execution_count": 297,
     "metadata": {},
     "output_type": "execute_result"
    }
   ],
   "source": [
    "edges = [24, 22, 2, 4, 6, 27, 26, 8, 20, 17, 11, 14, 12, 21, 25, 19, 15, 13, 3, 0, 1, 29, 28, 23, 7, 5, 9, 10, 16, 18]\n",
    "_fitness(graph, get_doubled_edges(graph), edges, 0)"
   ],
   "metadata": {
    "collapsed": false
   }
  },
  {
   "cell_type": "code",
   "execution_count": 75,
   "outputs": [],
   "source": [
    "def get_doubled_edges(graph: igraph.Graph) -> list[tuple[int, int, int]]:\n",
    "    edge_list = []\n",
    "\n",
    "    for edge in graph.get_edge_dataframe().itertuples():\n",
    "        edge_list.append((edge.source, edge.target, edge.weight))\n",
    "\n",
    "    all_edges = []\n",
    "    for a, b, c in edge_list:\n",
    "        all_edges.append((a, b, c))\n",
    "\n",
    "    for a, b, c in edge_list:\n",
    "        all_edges.append((b, a, c))\n",
    "\n",
    "    return all_edges"
   ],
   "metadata": {
    "collapsed": false
   }
  },
  {
   "cell_type": "code",
   "execution_count": 170,
   "outputs": [
    {
     "data": {
      "text/plain": "3"
     },
     "execution_count": 170,
     "metadata": {},
     "output_type": "execute_result"
    }
   ],
   "source": [
    "l = [4, 3, 3, 3]\n",
    "values = list(map(lambda x: x * x, l))\n",
    "min_value = min(range(len(values)))\n",
    "# list(filter(lambda x: , l))\n",
    "numpy.min(l)"
   ],
   "metadata": {
    "collapsed": false
   }
  },
  {
   "cell_type": "code",
   "execution_count": 176,
   "outputs": [
    {
     "name": "stdout",
     "output_type": "stream",
     "text": [
      "[{1, 4, 5}, {0, 2, 3}, {1, 3, 4, 5}, {1, 2, 4, 5}, {0, 2, 3, 5}, {0, 2, 3, 4}]\n",
      "4 [4] [{1, 5}, {0, 2, 3}, {1, 3, 5}, {1, 2, 5}, {0, 2, 3, 5}, {0, 2, 3}]\n",
      "1 [4, 1] [{5}, {0, 2, 3}, {3, 5}, {2, 5}, {0, 2, 3, 5}, {0, 2, 3}]\n",
      "5 [4, 1, 5] [set(), {0, 2, 3}, {3}, {2}, {0, 2, 3}, {0, 2, 3}]\n",
      "3 [4, 1, 5, 3] [set(), {0, 2}, set(), {2}, {0, 2}, {0, 2}]\n",
      "2 [4, 1, 5, 3, 2] [set(), {0}, set(), set(), {0}, {0}]\n"
     ]
    },
    {
     "data": {
      "text/plain": "[4, 1, 5, 3, 2, 0]"
     },
     "execution_count": 176,
     "metadata": {},
     "output_type": "execute_result"
    }
   ],
   "source": [
    "parent1 = [4, 0, 1, 3, 5, 2]\n",
    "parent2 = [0, 1, 2, 3, 4, 5]\n",
    "\n",
    "chromosome_len = len(parent1)\n",
    "\n",
    "sets = [set() for _ in range(chromosome_len)]\n",
    "\n",
    "for index in range(chromosome_len):\n",
    "    gene_from_parent1 = parent1[index]\n",
    "    gene_from_parent2 = parent2[index]\n",
    "    sets[gene_from_parent1].add(parent1[(index - 1) % chromosome_len])\n",
    "    sets[gene_from_parent1].add(parent1[(index + 1) % chromosome_len])\n",
    "    sets[gene_from_parent2].add(parent2[(index - 1) % chromosome_len])\n",
    "    sets[gene_from_parent2].add(parent2[(index + 1) % chromosome_len])\n",
    "\n",
    "result = []\n",
    "node = parent1[0] if random.random() > 0.5 else parent2[0]\n",
    "print(sets)\n",
    "while len(result) < chromosome_len:\n",
    "    result.append(node)\n",
    "\n",
    "    if len(result) == chromosome_len:\n",
    "        break\n",
    "\n",
    "    for node_set in sets:\n",
    "        node_set.discard(node)\n",
    "\n",
    "    print(node, result, sets)\n",
    "\n",
    "    if len(sets[node]) > 0:\n",
    "        min_length = min(list(filter(lambda y: y > 0, map(lambda x: len(x), list(sets)))))\n",
    "        node = list(random.choice(list(filter(lambda x: len(x) == min_length and len(x) > 0, sets))))[0]\n",
    "    else:\n",
    "        node = random.choice(list(filter(lambda x: x not in result, parent1)))\n",
    "result"
   ],
   "metadata": {
    "collapsed": false
   }
  },
  {
   "cell_type": "code",
   "execution_count": 316,
   "outputs": [],
   "source": [
    "def maybe_invert_edge(edge_count: int, edge_index: int):\n",
    "    return int((edge_index + edge_count) % (edge_count))"
   ],
   "metadata": {
    "collapsed": false
   }
  },
  {
   "cell_type": "code",
   "execution_count": 343,
   "outputs": [],
   "source": [
    "def _try_select(threshold, low=0.0, high=1.0):\n",
    "    roulette = numpy.random.uniform(low=low, high=high)\n",
    "    return roulette <= threshold\n",
    "\n",
    "\n",
    "# def _crossover(parents, offspring_size, ga_instance: pygad.GA):\n",
    "#     offspring = []\n",
    "#     index = 0\n",
    "#\n",
    "#     while len(offspring) != offspring_size[0]:\n",
    "#         parent1 = list(map(lambda x: int(x) if not x >= parents.shape[1] else invert_edge(parents.shape[1], x), parents[0]))\n",
    "#         parent2 = list(map(lambda x: int(x) if not x >= parents.shape[1] else invert_edge(parents.shape[1], x), parents[1]))\n",
    "#\n",
    "#         index += 1\n",
    "#         if not _try_select(threshold=ga_instance.crossover_probability):\n",
    "#             offspring.append(parent1)\n",
    "#             continue\n",
    "#\n",
    "#         chromosome_len = len(parent1)\n",
    "#         sets = [set() for _ in range(chromosome_len)]\n",
    "#\n",
    "#         for index in range(chromosome_len):\n",
    "#             gene_from_parent1 = parent1[index]\n",
    "#             gene_from_parent2 = parent2[index]\n",
    "#             sets[gene_from_parent1].add(parent1[(index - 1) % chromosome_len])\n",
    "#             sets[gene_from_parent1].add(parent1[(index + 1) % chromosome_len])\n",
    "#             sets[gene_from_parent2].add(parent2[(index - 1) % chromosome_len])\n",
    "#             sets[gene_from_parent2].add(parent2[(index + 1) % chromosome_len])\n",
    "#\n",
    "#         child = []\n",
    "#         node = parent1[0] if random.random() > 0.5 else parent2[0]\n",
    "#         while len(child) < chromosome_len:\n",
    "#             child.append(node)\n",
    "#\n",
    "#             if len(child) == chromosome_len:\n",
    "#                 break\n",
    "#\n",
    "#             for node_set in sets:\n",
    "#                 node_set.discard(node)\n",
    "#\n",
    "#             if len(sets[node]) > 0:\n",
    "#                 min_length = min(list(filter(lambda y: y > 0, map(lambda x: len(x), list(sets)))))\n",
    "#                 node = list(random.choice(list(filter(lambda x: len(x) == min_length and len(x) > 0, sets))))[0]\n",
    "#             else:\n",
    "#                 node = random.choice(list(filter(lambda x: x not in child, parent1)))\n",
    "#\n",
    "#         offspring.append(child)\n",
    "#\n",
    "#     return numpy.array(offspring)\n",
    "\n",
    "def _evaluate_element_indices(pair_index):\n",
    "    pair_begin = pair_index * 2\n",
    "    pair_end = pair_begin + 1\n",
    "    return pair_begin, pair_end\n",
    "\n",
    "\n",
    "def _insert_pair(source, target, pair_index, length):\n",
    "    pair_begin, pair_end = _evaluate_element_indices(pair_index)\n",
    "\n",
    "    pair = source[pair_begin:pair_end + 1]\n",
    "    first_swap_index = target.index(float(pair[0])) if float(pair[0]) in target else target.index(float(invert_edge(length, pair[0])))\n",
    "    target[first_swap_index] = target[pair_begin]\n",
    "    target[pair_begin] = pair[0]\n",
    "\n",
    "    second_swap_index = target.index(float(pair[1])) if float(pair[1]) in target else target.index(float(invert_edge(length, pair[1])))\n",
    "    target[second_swap_index] = target[pair_end]\n",
    "    target[pair_end] = pair[1]\n",
    "\n",
    "    return target\n",
    "\n",
    "def _crossover(parents, offspring_size, ga_instance: pygad.GA):\n",
    "    offspring = []\n",
    "    index = 0\n",
    "    while len(offspring) != offspring_size[0]:\n",
    "        parent1 = list(parents[index % parents.shape[0], :])\n",
    "        parent2 = list(parents[(index + 1) % parents.shape[0], :])\n",
    "\n",
    "        index += 1\n",
    "        if not _try_select(threshold=ga_instance.crossover_probability):\n",
    "            offspring.append(parent1)\n",
    "            continue\n",
    "\n",
    "        pair_index = numpy.random.choice(range(int(offspring_size[1] / 2)))\n",
    "        child = _insert_pair(parent1, parent2, pair_index, len(parents[0]))\n",
    "        offspring.append(child)\n",
    "\n",
    "    return numpy.array(offspring)\n",
    "\n",
    "def _mutate(offspring, ga_instance: pygad.GA):\n",
    "    for chromosome_index in range(offspring.shape[0]):\n",
    "        for gene_index in range(offspring.shape[1]):\n",
    "            if not _try_select(threshold=ga_instance.mutation_probability):\n",
    "                continue\n",
    "\n",
    "            offspring[chromosome_index, gene_index] = invert_edge(offspring.shape[1], offspring[chromosome_index, gene_index])\n",
    "\n",
    "    return offspring\n",
    "\n",
    "def create_template_ga_instance(graph: igraph.Graph, population_size=50, num_generations=1000,\n",
    "                                crossover_probability=0.4, mutation_probability=0.1,\n",
    "                                **kwargs):\n",
    "    initial_population = generate_initial_population(graph, population_size)\n",
    "    all_edges = get_doubled_edges(graph)\n",
    "\n",
    "    return pygad.GA(\n",
    "        num_generations=num_generations,\n",
    "        num_parents_mating=population_size // 2,\n",
    "        crossover_probability=crossover_probability,\n",
    "        crossover_type=_crossover,\n",
    "        mutation_probability=mutation_probability,\n",
    "        mutation_percent_genes=\"default\",\n",
    "        mutation_type=lambda offspring, ga_instance: _mutate(offspring, ga_instance),\n",
    "        fitness_func=lambda solution, index: _fitness(graph, all_edges, solution, index),\n",
    "        parent_selection_type=\"rws\",  # roulette\n",
    "        initial_population=initial_population,\n",
    "        keep_elitism=10,\n",
    "        keep_parents=-1,\n",
    "        **kwargs)"
   ],
   "metadata": {
    "collapsed": false
   }
  },
  {
   "cell_type": "code",
   "execution_count": 344,
   "outputs": [
    {
     "name": "stdout",
     "output_type": "stream",
     "text": [
      "[14. 45. 21. 52.  7. 39. 18. 36. 11. 17. 54.  0. 33. 40. 59. 25.  8. 35.\n",
      " 26. 58. 42. 16. 13. 57. 23. 19. 20. 32.  4.  1.] -422\n"
     ]
    }
   ],
   "source": [
    "ga_instance = create_template_ga_instance(graph)\n",
    "ga_instance.run()\n",
    "all_edges = get_doubled_edges(graph)\n",
    "edges, score, index = ga_instance.best_solution()#-385\n",
    "print(edges, _fitness(graph, all_edges, edges, index))"
   ],
   "metadata": {
    "collapsed": false
   }
  },
  {
   "cell_type": "code",
   "execution_count": 237,
   "outputs": [],
   "source": [
    "def calculate_cost(graph: igraph.Graph, vertices: list[int]):\n",
    "    cost = 0\n",
    "    for index in range(len(vertices) - 1):\n",
    "        start_vertex = vertices[index]\n",
    "        end_vertex = vertices[index + 1]\n",
    "        cost += graph.es.find(_source=start_vertex, _target=end_vertex)['weight']\n",
    "\n",
    "    return cost\n",
    "\n",
    "def create_vertex_path(graph: igraph.Graph, edges: list[float]):\n",
    "    edge_dataframe = graph.get_edge_dataframe()\n",
    "    edge_dataframe.loc[len(edge_dataframe.index)] = edge_dataframe.iloc[0]\n",
    "\n",
    "    vertex_path = []\n",
    "    for edge in edges:\n",
    "        source = edge_dataframe.iloc[int(edge)].source\n",
    "        target = edge_dataframe.iloc[int(edge)].target\n",
    "\n",
    "        if len(vertex_path) == 0:\n",
    "            vertex_path.append(source)\n",
    "            vertex_path.append(target)\n",
    "        elif edge == edges[-1]:\n",
    "            previous_vertex = vertex_path[-1]\n",
    "            path = graph.get_shortest_paths(v=previous_vertex, to=vertex_path[0], weights=\"weight\")[0]\n",
    "            for vertex in path[1:]:\n",
    "                vertex_path.append(vertex)\n",
    "        elif len(vertex_path) > 0:\n",
    "            previous_vertex = vertex_path[-1]\n",
    "\n",
    "            if source == previous_vertex:\n",
    "                vertex_path.append(target)\n",
    "            elif target == previous_vertex:\n",
    "                vertex_path.append(source)\n",
    "            else:\n",
    "                source_path = graph.get_shortest_paths(v=previous_vertex, to=source, weights=\"weight\")[0]\n",
    "                target_path = graph.get_shortest_paths(v=previous_vertex, to=target, weights=\"weight\")[0]\n",
    "\n",
    "                if source in source_path and target in source_path:\n",
    "                    for vertex in source_path[1:]:\n",
    "                        vertex_path.append(vertex)\n",
    "                elif source in target_path and target in target_path:\n",
    "                    for vertex in target_path[1:]:\n",
    "                        vertex_path.append(vertex)\n",
    "                else:\n",
    "                    source_path_cost = calculate_cost(graph, source_path)\n",
    "                    target_path_cost = calculate_cost(graph, target_path)\n",
    "                    better_path = source_path if source_path_cost < target_path_cost else target_path\n",
    "                    last_vertex = target if source_path_cost < target_path_cost else source\n",
    "\n",
    "                    for vertex in better_path[1:]:\n",
    "                        vertex_path.append(vertex)\n",
    "                    vertex_path.append(last_vertex)\n",
    "        else:\n",
    "            vertex_path.append(source)\n",
    "            vertex_path.append(target)\n",
    "    return vertex_path\n"
   ],
   "metadata": {
    "collapsed": false
   }
  },
  {
   "cell_type": "code",
   "execution_count": 305,
   "outputs": [
    {
     "name": "stdout",
     "output_type": "stream",
     "text": [
      "[13, 14, 13, 12, 11, 10, 9, 10, 11, 15, 16, 3, 2, 19, 0, 14, 13, 12, 11, 10, 9, 8, 4, 3, 16, 3, 4, 8, 9, 10, 11, 12, 13, 14, 18, 17, 15, 16, 3, 2, 1, 0, 19, 2, 3, 4, 5, 6, 7, 6, 5, 10, 11, 15, 16, 3, 4, 5, 10, 11, 12, 14, 18, 17, 2, 19, 0, 19, 18, 17, 18, 14, 15, 14, 18, 19, 18, 14, 13]\n"
     ]
    }
   ],
   "source": [
    "result_edge_list = [23., 47., 50., 35., 32., 21., 10.,  7.,  9., 16., 25., 27., 56.,\n",
    "        33., 30., 42., 13., 15., 18.,  8., 41., 19., 22.,  6., 34., 31.,\n",
    "        28., 24., 29., 14.]\n",
    "result_len = len(result_edge_list)\n",
    "mapped = list(map(lambda x: int(x) if not x >= result_len else invert_edge(result_len, x), result_edge_list))\n",
    "print(create_vertex_path(graph, mapped))"
   ],
   "metadata": {
    "collapsed": false
   }
  },
  {
   "cell_type": "code",
   "execution_count": 307,
   "outputs": [
    {
     "data": {
      "text/plain": "-403"
     },
     "execution_count": 307,
     "metadata": {},
     "output_type": "execute_result"
    }
   ],
   "source": [
    "_fitness(graph, get_doubled_edges(graph), result_edge_list, 0)"
   ],
   "metadata": {
    "collapsed": false
   }
  },
  {
   "cell_type": "code",
   "execution_count": 306,
   "outputs": [
    {
     "data": {
      "text/plain": "-403"
     },
     "execution_count": 306,
     "metadata": {},
     "output_type": "execute_result"
    }
   ],
   "source": [
    "_fitness(graph, get_doubled_edges(graph), mapped, 0)"
   ],
   "metadata": {
    "collapsed": false
   }
  }
 ],
 "metadata": {
  "kernelspec": {
   "display_name": "Python 3",
   "language": "python",
   "name": "python3"
  },
  "language_info": {
   "codemirror_mode": {
    "name": "ipython",
    "version": 2
   },
   "file_extension": ".py",
   "mimetype": "text/x-python",
   "name": "python",
   "nbconvert_exporter": "python",
   "pygments_lexer": "ipython2",
   "version": "2.7.6"
  }
 },
 "nbformat": 4,
 "nbformat_minor": 0
}
