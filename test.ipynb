{
 "cells": [
  {
   "cell_type": "code",
   "execution_count": 1,
   "outputs": [],
   "source": [
    "import igraph\n",
    "import random\n",
    "import numpy\n",
    "import pandas"
   ],
   "metadata": {
    "collapsed": false
   }
  },
  {
   "cell_type": "code",
   "execution_count": 2,
   "outputs": [],
   "source": [
    "def make_graph(weighted_edges):\n",
    "    edges = [edge[0:2] for edge in weighted_edges]\n",
    "    weights = [edge[2] for edge in weighted_edges]\n",
    "\n",
    "    return igraph.Graph(\n",
    "        edges=edges,\n",
    "        edge_attrs={'weight': weights}\n",
    "    )\n",
    "\n",
    "def read_graph_from_file(path):\n",
    "    with open(path) as file:\n",
    "        lines = file.readlines()\n",
    "        weighted_edges = []\n",
    "        for line in lines:\n",
    "            strings = line.rstrip().split(' ')\n",
    "            values = [int(s) for s in strings]\n",
    "            weighted_edges.append(values)\n",
    "\n",
    "        return make_graph(weighted_edges)"
   ],
   "metadata": {
    "collapsed": false
   }
  },
  {
   "cell_type": "code",
   "execution_count": 84,
   "metadata": {
    "collapsed": true
   },
   "outputs": [],
   "source": [
    "def _fitness(line_graph: igraph.Graph, solution, solution_index):\n",
    "    total_cost = 0\n",
    "    for index in range(len(solution)):\n",
    "        begin_vertex = int(solution[index])\n",
    "        end_vertex = int(solution[(index + 1) % len(solution)])\n",
    "        # print(begin_vertex, end_vertex, solution)\n",
    "        shortest_vertex_path = line_graph.get_shortest_paths(v=begin_vertex, to=end_vertex)[0]\n",
    "\n",
    "        path_cost = 0\n",
    "        for vertex in shortest_vertex_path[1:]:\n",
    "            path_cost += line_graph.vs[vertex][\"weight\"]\n",
    "\n",
    "        total_cost += path_cost\n",
    "\n",
    "    return -total_cost"
   ]
  },
  {
   "cell_type": "code",
   "execution_count": 4,
   "outputs": [],
   "source": [
    "graph = read_graph_from_file(\"./graphs/graph_small.dat\")"
   ],
   "metadata": {
    "collapsed": false
   }
  },
  {
   "cell_type": "code",
   "execution_count": 5,
   "outputs": [],
   "source": [
    "def generate_initial_population(edge_count: int, population_size: int):\n",
    "    population = [list(range(edge_count)) for _ in range(population_size)]\n",
    "    for solution in population:\n",
    "        random.shuffle(solution)\n",
    "    return population\n"
   ],
   "metadata": {
    "collapsed": false
   }
  },
  {
   "cell_type": "code",
   "execution_count": 9,
   "outputs": [],
   "source": [
    "population = list(map(lambda x: int(x), [9.0, 5.0, 4.0, 1.0, 0.0, 2.0, 22.0, 25.0, 29.0, 6.0, 3.0, 11.0, 14.0, 12.0, 13.0, 15.0, 17.0, 18.0, 24.0, 28.0, 27.0, 20.0, 19.0, 21.0, 23.0, 26.0, 8.0, 7.0, 16.0, 10.0]))"
   ],
   "metadata": {
    "collapsed": false
   }
  },
  {
   "cell_type": "code",
   "execution_count": 18,
   "outputs": [
    {
     "ename": "InternalError",
     "evalue": "Error at src\\_igraph\\attributes.c:1700: No such attribute. -- Invalid value",
     "output_type": "error",
     "traceback": [
      "\u001B[1;31m---------------------------------------------------------------------------\u001B[0m",
      "\u001B[1;31mInternalError\u001B[0m                             Traceback (most recent call last)",
      "Cell \u001B[1;32mIn[18], line 5\u001B[0m\n\u001B[0;32m      2\u001B[0m \u001B[38;5;28;01mfor\u001B[39;00m vertex \u001B[38;5;129;01min\u001B[39;00m \u001B[38;5;28mrange\u001B[39m(line_graph\u001B[38;5;241m.\u001B[39mvcount()):\n\u001B[0;32m      3\u001B[0m     line_graph\u001B[38;5;241m.\u001B[39mvs[vertex][\u001B[38;5;124m\"\u001B[39m\u001B[38;5;124mweight\u001B[39m\u001B[38;5;124m\"\u001B[39m] \u001B[38;5;241m=\u001B[39m graph\u001B[38;5;241m.\u001B[39mes[vertex][\u001B[38;5;124m\"\u001B[39m\u001B[38;5;124mweight\u001B[39m\u001B[38;5;124m\"\u001B[39m]\n\u001B[1;32m----> 5\u001B[0m \u001B[43m_fitness\u001B[49m\u001B[43m(\u001B[49m\u001B[43mline_graph\u001B[49m\u001B[43m,\u001B[49m\u001B[43m \u001B[49m\u001B[43mpopulation\u001B[49m\u001B[43m,\u001B[49m\u001B[43m \u001B[49m\u001B[38;5;241;43m0\u001B[39;49m\u001B[43m)\u001B[49m\n",
      "Cell \u001B[1;32mIn[17], line 7\u001B[0m, in \u001B[0;36m_fitness\u001B[1;34m(line_graph, solution, solution_index)\u001B[0m\n\u001B[0;32m      5\u001B[0m end_vertex \u001B[38;5;241m=\u001B[39m \u001B[38;5;28mint\u001B[39m(solution[(index \u001B[38;5;241m+\u001B[39m \u001B[38;5;241m1\u001B[39m) \u001B[38;5;241m%\u001B[39m \u001B[38;5;28mlen\u001B[39m(solution)])\n\u001B[0;32m      6\u001B[0m \u001B[38;5;66;03m# print(begin_vertex, end_vertex, solution)\u001B[39;00m\n\u001B[1;32m----> 7\u001B[0m shortest_vertex_path \u001B[38;5;241m=\u001B[39m \u001B[43mline_graph\u001B[49m\u001B[38;5;241;43m.\u001B[39;49m\u001B[43mget_shortest_paths\u001B[49m\u001B[43m(\u001B[49m\u001B[43mv\u001B[49m\u001B[38;5;241;43m=\u001B[39;49m\u001B[43mbegin_vertex\u001B[49m\u001B[43m,\u001B[49m\u001B[43m \u001B[49m\u001B[43mto\u001B[49m\u001B[38;5;241;43m=\u001B[39;49m\u001B[43mend_vertex\u001B[49m\u001B[43m,\u001B[49m\u001B[43m \u001B[49m\u001B[43mweights\u001B[49m\u001B[38;5;241;43m=\u001B[39;49m\u001B[38;5;124;43m\"\u001B[39;49m\u001B[38;5;124;43mweight\u001B[39;49m\u001B[38;5;124;43m\"\u001B[39;49m\u001B[43m)\u001B[49m[\u001B[38;5;241m0\u001B[39m]\n\u001B[0;32m      9\u001B[0m path_cost \u001B[38;5;241m=\u001B[39m \u001B[38;5;241m0\u001B[39m\n\u001B[0;32m     10\u001B[0m \u001B[38;5;28;01mfor\u001B[39;00m vertex \u001B[38;5;129;01min\u001B[39;00m shortest_vertex_path[\u001B[38;5;241m1\u001B[39m:]:\n",
      "\u001B[1;31mInternalError\u001B[0m: Error at src\\_igraph\\attributes.c:1700: No such attribute. -- Invalid value"
     ]
    }
   ],
   "source": [
    "line_graph: igraph.Graph = graph.linegraph()\n",
    "for vertex in range(line_graph.vcount()):\n",
    "    line_graph.vs[vertex][\"weight\"] = graph.es[vertex][\"weight\"]\n",
    "\n",
    "_fitness(line_graph, population, 0)"
   ],
   "metadata": {
    "collapsed": false
   }
  },
  {
   "cell_type": "code",
   "execution_count": null,
   "outputs": [],
   "source": [
    "cost = 0\n",
    "for vertex in [23, 21, 19, 18, 15, 14]:\n",
    "    cost += line_graph.vs[vertex][\"weight\"]\n",
    "cost"
   ],
   "metadata": {
    "collapsed": false
   }
  },
  {
   "cell_type": "code",
   "execution_count": null,
   "outputs": [],
   "source": [
    "edges, score, index = (numpy.array([23., 22., 24., 27.,  2.,  0.,  3.,  6., 28., 25.,  8.,  9.,  1.,\n",
    "       29., 18., 20., 13., 12., 16., 17., 26., 19., 15., 14., 11., 10.,\n",
    "        4.,  5.,  7., 21.]), -281, 0)"
   ],
   "metadata": {
    "collapsed": false
   }
  },
  {
   "cell_type": "code",
   "execution_count": 24,
   "outputs": [],
   "source": [
    "def calculate_cost(graph: igraph.Graph, vertices: list[int]):\n",
    "    cost = 0\n",
    "    for index in range(len(vertices) - 1):\n",
    "        start_vertex = vertices[index]\n",
    "        end_vertex = vertices[index + 1]\n",
    "        cost += graph.es.find(_source=start_vertex, _target=end_vertex)['weight']\n",
    "\n",
    "    return cost"
   ],
   "metadata": {
    "collapsed": false
   }
  },
  {
   "cell_type": "code",
   "execution_count": 19,
   "outputs": [],
   "source": [
    "def create_vertex_path(graph: igraph.Graph, edges: list[float]):\n",
    "    edge_dataframe = graph.get_edge_dataframe()\n",
    "    edge_dataframe.loc[len(edge_dataframe.index)] = edge_dataframe.iloc[0]\n",
    "\n",
    "    vertex_path = []\n",
    "    for edge in edges:\n",
    "        source = edge_dataframe.iloc[int(edge)].source\n",
    "        target = edge_dataframe.iloc[int(edge)].target\n",
    "\n",
    "        if len(vertex_path) == 0:\n",
    "            vertex_path.append(source)\n",
    "            vertex_path.append(target)\n",
    "        elif edge == edges[-1]:\n",
    "            previous_vertex = vertex_path[-1]\n",
    "            path = graph.get_shortest_paths(v=previous_vertex, to=vertex_path[0], weights=\"weight\")[0]\n",
    "            for vertex in path[1:]:\n",
    "                vertex_path.append(vertex)\n",
    "        elif len(vertex_path) > 0:\n",
    "            previous_vertex = vertex_path[-1]\n",
    "\n",
    "            if source == previous_vertex:\n",
    "                vertex_path.append(target)\n",
    "            elif target == previous_vertex:\n",
    "                vertex_path.append(source)\n",
    "            else:\n",
    "                source_path = graph.get_shortest_paths(v=previous_vertex, to=source, weights=\"weight\")[0]\n",
    "                target_path = graph.get_shortest_paths(v=previous_vertex, to=target, weights=\"weight\")[0]\n",
    "\n",
    "                if source in source_path and target in source_path:\n",
    "                    for vertex in source_path[1:]:\n",
    "                        vertex_path.append(vertex)\n",
    "                elif source in target_path and target in target_path:\n",
    "                    for vertex in target_path[1:]:\n",
    "                        vertex_path.append(vertex)\n",
    "                else:\n",
    "                    source_path_cost = calculate_cost(graph, source_path)\n",
    "                    target_path_cost = calculate_cost(graph, target_path)\n",
    "                    better_path = source_path if source_path_cost < target_path_cost else target_path\n",
    "                    last_vertex = target if source_path_cost < target_path_cost else source\n",
    "\n",
    "                    for vertex in better_path[1:]:\n",
    "                        vertex_path.append(vertex)\n",
    "                    vertex_path.append(last_vertex)\n",
    "        else:\n",
    "            vertex_path.append(source)\n",
    "            vertex_path.append(target)\n",
    "    return vertex_path"
   ],
   "metadata": {
    "collapsed": false
   }
  },
  {
   "cell_type": "code",
   "execution_count": null,
   "outputs": [],
   "source": [
    "graph.get_shortest_paths(v=0, to=2, weights=\"weight\", output=\"vpath\")"
   ],
   "metadata": {
    "collapsed": false
   }
  },
  {
   "cell_type": "code",
   "execution_count": 16,
   "outputs": [
    {
     "data": {
      "text/plain": "272"
     },
     "execution_count": 16,
     "metadata": {},
     "output_type": "execute_result"
    }
   ],
   "source": [
    "optimal_path = [9, 10, 9, 5, 6, 7, 6, 5, 9, 8, 4, 3, 16, 3, 4, 5, 10, 11, 15, 14, 0, 19, 0, 1, 2, 19, 2, 3, 16, 15, 17, 2, 19, 18, 17, 18, 19, 18, 14, 13, 14, 12, 13, 12, 11, 10, 9]\n",
    "\n",
    "cost = 0\n",
    "for index in range(len(optimal_path) - 1):\n",
    "    source = optimal_path[index]\n",
    "    target = optimal_path[(index + 1) % len(optimal_path)]\n",
    "    cost += graph.es.find(_source=source, _target=target)['weight']\n",
    "\n",
    "cost"
   ],
   "metadata": {
    "collapsed": false
   }
  },
  {
   "cell_type": "code",
   "execution_count": 28,
   "outputs": [],
   "source": [
    "def fitness2(graph: igraph.Graph, solution, solution_index):\n",
    "    vertex_path = create_vertex_path(graph, solution)\n",
    "\n",
    "    return -calculate_cost(graph, vertex_path)"
   ],
   "metadata": {
    "collapsed": false
   }
  },
  {
   "cell_type": "code",
   "execution_count": 21,
   "outputs": [],
   "source": [
    "population = list(map(lambda x: int(x), [9.0, 5.0, 4.0, 1.0, 0.0, 2.0, 22.0, 25.0, 29.0, 6.0, 3.0, 11.0, 14.0, 12.0, 13.0, 15.0, 17.0, 18.0, 24.0, 28.0, 27.0, 20.0, 19.0, 21.0, 23.0, 26.0, 8.0, 7.0, 16.0, 10.0]))"
   ],
   "metadata": {
    "collapsed": false
   }
  },
  {
   "cell_type": "code",
   "execution_count": 29,
   "outputs": [
    {
     "data": {
      "text/plain": "-312"
     },
     "execution_count": 29,
     "metadata": {},
     "output_type": "execute_result"
    }
   ],
   "source": [
    "fitness2(graph, population, 0)"
   ],
   "metadata": {
    "collapsed": false
   }
  },
  {
   "cell_type": "code",
   "execution_count": 80,
   "outputs": [
    {
     "name": "stdout",
     "output_type": "stream",
     "text": [
      "[0, 3, 5, 9, 11, 11, 10, 16, 14, 12, 13, 13, 12, 15, 17, 17, 18, 19, 21, 21, 22, 2, 1, 4, 6, 27, 20, 20, 26, 7, 7, 26, 24, 23, 23, 25, 28, 28, 29, 1]\n"
     ]
    }
   ],
   "source": [
    "vertex_optimal_path =  [0, 1, 2, 3, 4, 5, 4, 8, 9, 5, 6, 7, 6, 5, 10, 9, 10, 11, 12, 13, 12, 14, 0, 19, 2, 17, 15, 11, 15, 16, 3, 16, 15, 14, 13, 14, 18, 17, 18, 19, 0]\n",
    "edge_df = graph.get_edge_dataframe()\n",
    "my_edges = []\n",
    "for index in range(len(vertex_optimal_path) - 1):\n",
    "    begin = vertex_optimal_path[index]\n",
    "    end = vertex_optimal_path[(index + 1) % len(vertex_optimal_path)]\n",
    "    found = edge_df.query(\"(source == @begin & target == @end) | (source == @end & target == @begin)\").head(1)\n",
    "    edge = graph.es.find(_source=begin, _target=end).index\n",
    "    my_edges.append(edge)\n",
    "print(my_edges)"
   ],
   "metadata": {
    "collapsed": false
   }
  },
  {
   "cell_type": "code",
   "execution_count": 81,
   "outputs": [
    {
     "data": {
      "text/plain": "40"
     },
     "execution_count": 81,
     "metadata": {},
     "output_type": "execute_result"
    }
   ],
   "source": [
    "len([0, 3, 5, 9, 11, 11, 10, 16, 14, 12, 13, 13, 12, 15, 17, 17, 18, 19, 21, 21, 22, 2, 1, 4, 6, 27, 20, 20, 26, 7, 7, 26, 24, 23, 23, 25, 28, 28, 29, 1])"
   ],
   "metadata": {
    "collapsed": false
   }
  },
  {
   "cell_type": "code",
   "execution_count": 86,
   "outputs": [
    {
     "data": {
      "text/plain": "-206"
     },
     "execution_count": 86,
     "metadata": {},
     "output_type": "execute_result"
    }
   ],
   "source": [
    "line_graph: igraph.Graph = graph.linegraph()\n",
    "for vertex in range(line_graph.vcount()):\n",
    "    line_graph.vs[vertex][\"weight\"] = graph.es[vertex][\"weight\"]\n",
    "\n",
    "_fitness(line_graph, my_edges, 0)"
   ],
   "metadata": {
    "collapsed": false
   }
  },
  {
   "cell_type": "code",
   "execution_count": 95,
   "outputs": [
    {
     "data": {
      "text/plain": "2"
     },
     "execution_count": 95,
     "metadata": {},
     "output_type": "execute_result"
    }
   ],
   "source": [
    "def generate_random_permutations(len_permutation, num_permutations):\n",
    "    population = [list(range(len_permutation)) for _ in range(num_permutations)]\n",
    "    for solution in population:\n",
    "        random.shuffle(solution)\n",
    "    return population\n",
    "\n",
    "numpy.array(generate_random_permutations(3, 4)).ndim"
   ],
   "metadata": {
    "collapsed": false
   }
  },
  {
   "cell_type": "code",
   "execution_count": 94,
   "outputs": [
    {
     "data": {
      "text/plain": "3"
     },
     "execution_count": 94,
     "metadata": {},
     "output_type": "execute_result"
    }
   ],
   "source": [
    "def generate_initial_population2(graph: igraph.Graph, population_size: int):\n",
    "    population = [graph.get_edgelist() for _ in range(population_size)]\n",
    "    chaos_population = []\n",
    "\n",
    "    for solution in population:\n",
    "        chaos_edge_list = []\n",
    "        for a, b in solution:\n",
    "            if random.random() > 0.5:\n",
    "                chaos_edge_list.append((b, a))\n",
    "            else:\n",
    "                chaos_edge_list.append((a, b))\n",
    "        random.shuffle(chaos_edge_list)\n",
    "        chaos_population.append(chaos_edge_list)\n",
    "\n",
    "    return chaos_population\n",
    "\n",
    "cahos_population = generate_initial_population2(graph, 2)\n",
    "\n",
    "numpy.array(cahos_population).ndim"
   ],
   "metadata": {
    "collapsed": false
   }
  }
 ],
 "metadata": {
  "kernelspec": {
   "display_name": "Python 3",
   "language": "python",
   "name": "python3"
  },
  "language_info": {
   "codemirror_mode": {
    "name": "ipython",
    "version": 2
   },
   "file_extension": ".py",
   "mimetype": "text/x-python",
   "name": "python",
   "nbconvert_exporter": "python",
   "pygments_lexer": "ipython2",
   "version": "2.7.6"
  }
 },
 "nbformat": 4,
 "nbformat_minor": 0
}
